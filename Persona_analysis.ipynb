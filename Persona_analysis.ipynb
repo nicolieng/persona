{
 "cells": [
  {
   "cell_type": "code",
   "execution_count": 1,
   "id": "f0bf6c8e",
   "metadata": {},
   "outputs": [],
   "source": [
    "import pandas as pd\n",
    "import numpy as np\n",
    "import seaborn as sns\n",
    "import matplotlib\n",
    "import matplotlib.pyplot as plt\n",
    "demo=pd.read_csv(\"demographics.csv\")"
   ]
  },
  {
   "cell_type": "markdown",
   "id": "085466f7",
   "metadata": {},
   "source": [
    "## Data Cleaning"
   ]
  },
  {
   "cell_type": "code",
   "execution_count": 103,
   "id": "9066a77c",
   "metadata": {},
   "outputs": [
    {
     "name": "stdout",
     "output_type": "stream",
     "text": [
      "<class 'pandas.core.frame.DataFrame'>\n",
      "RangeIndex: 4863 entries, 0 to 4862\n",
      "Data columns (total 7 columns):\n",
      " #   Column          Non-Null Count  Dtype  \n",
      "---  ------          --------------  -----  \n",
      " 0   ID              4863 non-null   object \n",
      " 1   First Name      4861 non-null   object \n",
      " 2   Monthly Income  141 non-null    float64\n",
      " 3   Pets            4863 non-null   object \n",
      " 4   Date of Birth   4863 non-null   object \n",
      " 5   Market          4863 non-null   object \n",
      " 6   State           4863 non-null   object \n",
      "dtypes: float64(1), object(6)\n",
      "memory usage: 266.1+ KB\n"
     ]
    }
   ],
   "source": [
    "demo.info()"
   ]
  },
  {
   "cell_type": "code",
   "execution_count": null,
   "id": "31731543",
   "metadata": {},
   "outputs": [],
   "source": [
    "#Calculate age of the person using today's date\n",
    "def age(born):\n",
    "    born = datetime.strptime(born, \"%Y-%m-%d\").date()\n",
    "    today = date.today()\n",
    "    return today.year - born.year - ((today.month, \n",
    "                                      today.day) < (born.month, \n",
    "                                                    born.day))\n",
    "\n",
    "demo['Age']= demo['Date of Birth'].apply(age)"
   ]
  },
  {
   "cell_type": "code",
   "execution_count": 112,
   "id": "df394412",
   "metadata": {},
   "outputs": [
    {
     "data": {
      "text/plain": [
       "count    4863.000000\n",
       "mean       10.582768\n",
       "std         8.614540\n",
       "min      -185.000000\n",
       "25%         5.000000\n",
       "50%         9.000000\n",
       "75%        14.000000\n",
       "max       116.000000\n",
       "Name: Age, dtype: float64"
      ]
     },
     "execution_count": 112,
     "metadata": {},
     "output_type": "execute_result"
    }
   ],
   "source": [
    "#Look for outliers in age, which signals dirty data and further data cleaning\n",
    "demo['Age'].describe()\n"
   ]
  },
  {
   "cell_type": "code",
   "execution_count": 113,
   "id": "63f3e470",
   "metadata": {},
   "outputs": [
    {
     "data": {
      "text/html": [
       "<div>\n",
       "<style scoped>\n",
       "    .dataframe tbody tr th:only-of-type {\n",
       "        vertical-align: middle;\n",
       "    }\n",
       "\n",
       "    .dataframe tbody tr th {\n",
       "        vertical-align: top;\n",
       "    }\n",
       "\n",
       "    .dataframe thead th {\n",
       "        text-align: right;\n",
       "    }\n",
       "</style>\n",
       "<table border=\"1\" class=\"dataframe\">\n",
       "  <thead>\n",
       "    <tr style=\"text-align: right;\">\n",
       "      <th></th>\n",
       "      <th>ID</th>\n",
       "      <th>First Name</th>\n",
       "      <th>Monthly Income</th>\n",
       "      <th>Pets</th>\n",
       "      <th>Date of Birth</th>\n",
       "      <th>Market</th>\n",
       "      <th>State</th>\n",
       "      <th>Age</th>\n",
       "    </tr>\n",
       "  </thead>\n",
       "  <tbody>\n",
       "    <tr>\n",
       "      <th>585</th>\n",
       "      <td>u3oms3hqg1orep1s</td>\n",
       "      <td>Kyara</td>\n",
       "      <td>NaN</td>\n",
       "      <td>Yes</td>\n",
       "      <td>2206-07-31</td>\n",
       "      <td>Southwest</td>\n",
       "      <td>AZ</td>\n",
       "      <td>-185</td>\n",
       "    </tr>\n",
       "  </tbody>\n",
       "</table>\n",
       "</div>"
      ],
      "text/plain": [
       "                   ID First Name  Monthly Income Pets Date of Birth  \\\n",
       "585  u3oms3hqg1orep1s      Kyara             NaN  Yes    2206-07-31   \n",
       "\n",
       "        Market State  Age  \n",
       "585  Southwest    AZ -185  "
      ]
     },
     "execution_count": 113,
     "metadata": {},
     "output_type": "execute_result"
    }
   ],
   "source": [
    "demo[demo['Age']== -185]"
   ]
  },
  {
   "cell_type": "code",
   "execution_count": 119,
   "id": "fe8db30b",
   "metadata": {},
   "outputs": [
    {
     "data": {
      "text/html": [
       "<div>\n",
       "<style scoped>\n",
       "    .dataframe tbody tr th:only-of-type {\n",
       "        vertical-align: middle;\n",
       "    }\n",
       "\n",
       "    .dataframe tbody tr th {\n",
       "        vertical-align: top;\n",
       "    }\n",
       "\n",
       "    .dataframe thead th {\n",
       "        text-align: right;\n",
       "    }\n",
       "</style>\n",
       "<table border=\"1\" class=\"dataframe\">\n",
       "  <thead>\n",
       "    <tr style=\"text-align: right;\">\n",
       "      <th></th>\n",
       "      <th>ID</th>\n",
       "      <th>First Name</th>\n",
       "      <th>Monthly Income</th>\n",
       "      <th>Pets</th>\n",
       "      <th>Date of Birth</th>\n",
       "      <th>Market</th>\n",
       "      <th>State</th>\n",
       "      <th>Age</th>\n",
       "    </tr>\n",
       "  </thead>\n",
       "  <tbody>\n",
       "    <tr>\n",
       "      <th>2010</th>\n",
       "      <td>9p197dbbnq5p0om4</td>\n",
       "      <td>Chouida</td>\n",
       "      <td>NaN</td>\n",
       "      <td>No</td>\n",
       "      <td>1905-11-14</td>\n",
       "      <td>Bay Area</td>\n",
       "      <td>CA</td>\n",
       "      <td>116</td>\n",
       "    </tr>\n",
       "    <tr>\n",
       "      <th>2806</th>\n",
       "      <td>9p197dbbnq5p0om4</td>\n",
       "      <td>Chouida</td>\n",
       "      <td>10000.0</td>\n",
       "      <td>No</td>\n",
       "      <td>1905-11-14</td>\n",
       "      <td>Bay Area</td>\n",
       "      <td>CA</td>\n",
       "      <td>116</td>\n",
       "    </tr>\n",
       "  </tbody>\n",
       "</table>\n",
       "</div>"
      ],
      "text/plain": [
       "                    ID First Name  Monthly Income Pets Date of Birth  \\\n",
       "2010  9p197dbbnq5p0om4    Chouida             NaN   No    1905-11-14   \n",
       "2806  9p197dbbnq5p0om4    Chouida         10000.0   No    1905-11-14   \n",
       "\n",
       "        Market State  Age  \n",
       "2010  Bay Area    CA  116  \n",
       "2806  Bay Area    CA  116  "
      ]
     },
     "execution_count": 119,
     "metadata": {},
     "output_type": "execute_result"
    }
   ],
   "source": [
    "# Check on the age outliers\n",
    "demo[demo['Age']== 116]\n",
    "\n",
    "# We see the issue of duplicate records"
   ]
  },
  {
   "cell_type": "code",
   "execution_count": 128,
   "id": "5a7de2ec",
   "metadata": {},
   "outputs": [],
   "source": [
    "demo = demo.drop(demo.index[[585,2010,2806]])  \n",
    "# We are not sure if the real year is 2006 or 2016 unless we reach out for other parties to verify this information.\n",
    "# Given that we have a large dataset already, we will remove this outlier and continue our analysis"
   ]
  },
  {
   "cell_type": "code",
   "execution_count": 129,
   "id": "e6debcb1",
   "metadata": {},
   "outputs": [
    {
     "data": {
      "text/html": [
       "<div>\n",
       "<style scoped>\n",
       "    .dataframe tbody tr th:only-of-type {\n",
       "        vertical-align: middle;\n",
       "    }\n",
       "\n",
       "    .dataframe tbody tr th {\n",
       "        vertical-align: top;\n",
       "    }\n",
       "\n",
       "    .dataframe thead th {\n",
       "        text-align: right;\n",
       "    }\n",
       "</style>\n",
       "<table border=\"1\" class=\"dataframe\">\n",
       "  <thead>\n",
       "    <tr style=\"text-align: right;\">\n",
       "      <th></th>\n",
       "      <th>ID</th>\n",
       "      <th>First Name</th>\n",
       "      <th>Monthly Income</th>\n",
       "      <th>Pets</th>\n",
       "      <th>Date of Birth</th>\n",
       "      <th>Market</th>\n",
       "      <th>State</th>\n",
       "      <th>Age</th>\n",
       "    </tr>\n",
       "  </thead>\n",
       "  <tbody>\n",
       "    <tr>\n",
       "      <th>582</th>\n",
       "      <td>imfrlgbu6i1jouup</td>\n",
       "      <td>Tiffany</td>\n",
       "      <td>NaN</td>\n",
       "      <td>No</td>\n",
       "      <td>2018-04-24</td>\n",
       "      <td>Bay Area</td>\n",
       "      <td>CA</td>\n",
       "      <td>3</td>\n",
       "    </tr>\n",
       "    <tr>\n",
       "      <th>583</th>\n",
       "      <td>kvl9576e1kkqukls</td>\n",
       "      <td>Alyssa</td>\n",
       "      <td>NaN</td>\n",
       "      <td>No</td>\n",
       "      <td>2011-02-01</td>\n",
       "      <td>Southwest</td>\n",
       "      <td>AZ</td>\n",
       "      <td>11</td>\n",
       "    </tr>\n",
       "    <tr>\n",
       "      <th>584</th>\n",
       "      <td>fimj5rffojq51sre</td>\n",
       "      <td>Jose</td>\n",
       "      <td>NaN</td>\n",
       "      <td>No</td>\n",
       "      <td>2018-09-24</td>\n",
       "      <td>SoCal</td>\n",
       "      <td>CA</td>\n",
       "      <td>3</td>\n",
       "    </tr>\n",
       "    <tr>\n",
       "      <th>586</th>\n",
       "      <td>kee2eat318q5hj6p</td>\n",
       "      <td>Jayson</td>\n",
       "      <td>NaN</td>\n",
       "      <td>No</td>\n",
       "      <td>2005-09-08</td>\n",
       "      <td>East</td>\n",
       "      <td>NC</td>\n",
       "      <td>16</td>\n",
       "    </tr>\n",
       "    <tr>\n",
       "      <th>587</th>\n",
       "      <td>9fh3uokqbo1joebh</td>\n",
       "      <td>Jayleen</td>\n",
       "      <td>NaN</td>\n",
       "      <td>No</td>\n",
       "      <td>2015-08-26</td>\n",
       "      <td>Washington</td>\n",
       "      <td>WA</td>\n",
       "      <td>6</td>\n",
       "    </tr>\n",
       "  </tbody>\n",
       "</table>\n",
       "</div>"
      ],
      "text/plain": [
       "                   ID First Name  Monthly Income Pets Date of Birth  \\\n",
       "582  imfrlgbu6i1jouup    Tiffany             NaN   No    2018-04-24   \n",
       "583  kvl9576e1kkqukls     Alyssa             NaN   No    2011-02-01   \n",
       "584  fimj5rffojq51sre       Jose             NaN   No    2018-09-24   \n",
       "586  kee2eat318q5hj6p     Jayson             NaN   No    2005-09-08   \n",
       "587  9fh3uokqbo1joebh    Jayleen             NaN   No    2015-08-26   \n",
       "\n",
       "         Market State  Age  \n",
       "582    Bay Area    CA    3  \n",
       "583   Southwest    AZ   11  \n",
       "584       SoCal    CA    3  \n",
       "586        East    NC   16  \n",
       "587  Washington    WA    6  "
      ]
     },
     "execution_count": 129,
     "metadata": {},
     "output_type": "execute_result"
    }
   ],
   "source": [
    "demo.iloc[582:587,]\n",
    "# checking if line removal is successful "
   ]
  },
  {
   "cell_type": "code",
   "execution_count": 130,
   "id": "cd6ab270",
   "metadata": {},
   "outputs": [],
   "source": [
    "demo = demo[demo.duplicated()==False]\n",
    "#cleared ducplicates"
   ]
  },
  {
   "cell_type": "code",
   "execution_count": 131,
   "id": "c149fa9c",
   "metadata": {},
   "outputs": [
    {
     "data": {
      "text/html": [
       "<div>\n",
       "<style scoped>\n",
       "    .dataframe tbody tr th:only-of-type {\n",
       "        vertical-align: middle;\n",
       "    }\n",
       "\n",
       "    .dataframe tbody tr th {\n",
       "        vertical-align: top;\n",
       "    }\n",
       "\n",
       "    .dataframe thead th {\n",
       "        text-align: right;\n",
       "    }\n",
       "</style>\n",
       "<table border=\"1\" class=\"dataframe\">\n",
       "  <thead>\n",
       "    <tr style=\"text-align: right;\">\n",
       "      <th></th>\n",
       "      <th>Monthly Income</th>\n",
       "      <th>Age</th>\n",
       "    </tr>\n",
       "  </thead>\n",
       "  <tbody>\n",
       "    <tr>\n",
       "      <th>count</th>\n",
       "      <td>140.000000</td>\n",
       "      <td>4814.000000</td>\n",
       "    </tr>\n",
       "    <tr>\n",
       "      <th>mean</th>\n",
       "      <td>4044.821357</td>\n",
       "      <td>10.576859</td>\n",
       "    </tr>\n",
       "    <tr>\n",
       "      <th>std</th>\n",
       "      <td>7321.272637</td>\n",
       "      <td>7.815250</td>\n",
       "    </tr>\n",
       "    <tr>\n",
       "      <th>min</th>\n",
       "      <td>0.000000</td>\n",
       "      <td>0.000000</td>\n",
       "    </tr>\n",
       "    <tr>\n",
       "      <th>25%</th>\n",
       "      <td>1612.500000</td>\n",
       "      <td>5.000000</td>\n",
       "    </tr>\n",
       "    <tr>\n",
       "      <th>50%</th>\n",
       "      <td>2500.000000</td>\n",
       "      <td>9.000000</td>\n",
       "    </tr>\n",
       "    <tr>\n",
       "      <th>75%</th>\n",
       "      <td>4374.750000</td>\n",
       "      <td>14.000000</td>\n",
       "    </tr>\n",
       "    <tr>\n",
       "      <th>max</th>\n",
       "      <td>60000.000000</td>\n",
       "      <td>79.000000</td>\n",
       "    </tr>\n",
       "  </tbody>\n",
       "</table>\n",
       "</div>"
      ],
      "text/plain": [
       "       Monthly Income          Age\n",
       "count      140.000000  4814.000000\n",
       "mean      4044.821357    10.576859\n",
       "std       7321.272637     7.815250\n",
       "min          0.000000     0.000000\n",
       "25%       1612.500000     5.000000\n",
       "50%       2500.000000     9.000000\n",
       "75%       4374.750000    14.000000\n",
       "max      60000.000000    79.000000"
      ]
     },
     "execution_count": 131,
     "metadata": {},
     "output_type": "execute_result"
    }
   ],
   "source": [
    "#summary statistics of income and age\n",
    "demo.describe()"
   ]
  },
  {
   "cell_type": "code",
   "execution_count": 132,
   "id": "6ec4f0d4",
   "metadata": {},
   "outputs": [],
   "source": [
    "demo['First Name']=demo['First Name'].astype('str')"
   ]
  },
  {
   "cell_type": "markdown",
   "id": "78a3a211",
   "metadata": {},
   "source": [
    "## Resident population"
   ]
  },
  {
   "cell_type": "code",
   "execution_count": 133,
   "id": "fbacfe17",
   "metadata": {},
   "outputs": [],
   "source": [
    "#Crafted identifier function to estimate gender using first name only\n",
    "def gender_identifier(name):\n",
    "    if (name[-1]=='a') or (name[-1]=='e') or (name[-1]=='i') or (name[-1]=='h') or (name[-1]=='l') or (name[-1]=='y') :\n",
    "        return \"Female\"    \n",
    "    return \"Male\" \n",
    "\n",
    "demo['Gender']=demo['First Name'].apply(gender_identifier)\n",
    "    "
   ]
  },
  {
   "cell_type": "code",
   "execution_count": 145,
   "id": "3c171e9c",
   "metadata": {},
   "outputs": [],
   "source": [
    "female_frac = demo[demo['Gender']=='Female']['ID'].count() / demo['Gender'].count()"
   ]
  },
  {
   "cell_type": "code",
   "execution_count": 146,
   "id": "844d275f",
   "metadata": {},
   "outputs": [
    {
     "data": {
      "text/plain": [
       "0.5496468633153303"
      ]
     },
     "execution_count": 146,
     "metadata": {},
     "output_type": "execute_result"
    }
   ],
   "source": [
    "female_frac"
   ]
  },
  {
   "cell_type": "code",
   "execution_count": 147,
   "id": "866e93d6",
   "metadata": {},
   "outputs": [],
   "source": [
    "male_frac = demo[demo['Gender']=='Male']['ID'].count() / demo['Gender'].count()"
   ]
  },
  {
   "cell_type": "code",
   "execution_count": 148,
   "id": "5abf6bc6",
   "metadata": {},
   "outputs": [
    {
     "data": {
      "text/plain": [
       "0.4503531366846697"
      ]
     },
     "execution_count": 148,
     "metadata": {},
     "output_type": "execute_result"
    }
   ],
   "source": [
    "male_frac"
   ]
  },
  {
   "cell_type": "code",
   "execution_count": 183,
   "id": "8a8f9716",
   "metadata": {},
   "outputs": [
    {
     "data": {
      "text/plain": [
       "0.2904029912754466"
      ]
     },
     "execution_count": 183,
     "metadata": {},
     "output_type": "execute_result"
    }
   ],
   "source": [
    "no_children = demo[ demo['Age']>13 ]['ID'].count() / demo['ID'].count()\n",
    "no_children"
   ]
  },
  {
   "cell_type": "code",
   "execution_count": 232,
   "id": "defd5e31",
   "metadata": {},
   "outputs": [],
   "source": [
    "def children(age):\n",
    "    if age > 13:\n",
    "        return \"No\"\n",
    "    return \"Yes\"\n",
    "\n",
    "demo['Children'] = demo['Age'].apply(children)"
   ]
  },
  {
   "cell_type": "code",
   "execution_count": 238,
   "id": "74a15029",
   "metadata": {},
   "outputs": [
    {
     "data": {
      "text/html": [
       "<div>\n",
       "<style scoped>\n",
       "    .dataframe tbody tr th:only-of-type {\n",
       "        vertical-align: middle;\n",
       "    }\n",
       "\n",
       "    .dataframe tbody tr th {\n",
       "        vertical-align: top;\n",
       "    }\n",
       "\n",
       "    .dataframe thead th {\n",
       "        text-align: right;\n",
       "    }\n",
       "</style>\n",
       "<table border=\"1\" class=\"dataframe\">\n",
       "  <thead>\n",
       "    <tr style=\"text-align: right;\">\n",
       "      <th></th>\n",
       "      <th>Children</th>\n",
       "      <th>Gender</th>\n",
       "      <th>ID</th>\n",
       "      <th>Percentage</th>\n",
       "    </tr>\n",
       "  </thead>\n",
       "  <tbody>\n",
       "    <tr>\n",
       "      <th>0</th>\n",
       "      <td>No</td>\n",
       "      <td>Female</td>\n",
       "      <td>780</td>\n",
       "      <td>16.202742</td>\n",
       "    </tr>\n",
       "    <tr>\n",
       "      <th>1</th>\n",
       "      <td>No</td>\n",
       "      <td>Male</td>\n",
       "      <td>618</td>\n",
       "      <td>12.837557</td>\n",
       "    </tr>\n",
       "    <tr>\n",
       "      <th>2</th>\n",
       "      <td>Yes</td>\n",
       "      <td>Female</td>\n",
       "      <td>1866</td>\n",
       "      <td>38.761944</td>\n",
       "    </tr>\n",
       "    <tr>\n",
       "      <th>3</th>\n",
       "      <td>Yes</td>\n",
       "      <td>Male</td>\n",
       "      <td>1550</td>\n",
       "      <td>32.197757</td>\n",
       "    </tr>\n",
       "  </tbody>\n",
       "</table>\n",
       "</div>"
      ],
      "text/plain": [
       "  Children  Gender    ID  Percentage\n",
       "0       No  Female   780   16.202742\n",
       "1       No    Male   618   12.837557\n",
       "2      Yes  Female  1866   38.761944\n",
       "3      Yes    Male  1550   32.197757"
      ]
     },
     "execution_count": 238,
     "metadata": {},
     "output_type": "execute_result"
    }
   ],
   "source": [
    "p = demo.groupby(['Children','Gender'])['ID'].count().reset_index() \n",
    "p['Percentage']= 100 * p['ID']  / p['ID'].sum()\n",
    "p"
   ]
  },
  {
   "cell_type": "markdown",
   "id": "32be33a1",
   "metadata": {},
   "source": [
    "## Age distribution"
   ]
  },
  {
   "cell_type": "code",
   "execution_count": 295,
   "id": "fd36d435",
   "metadata": {},
   "outputs": [
    {
     "data": {
      "text/plain": [
       "Gender\n",
       "Female    140\n",
       "Male       98\n",
       "Name: ID, dtype: int64"
      ]
     },
     "execution_count": 295,
     "metadata": {},
     "output_type": "execute_result"
    }
   ],
   "source": [
    "#examine distribution of age by gender\n",
    "demo[(demo['Age']>=0) & (demo['Age']<=1)].groupby(['Gender'])['ID'].count()"
   ]
  },
  {
   "cell_type": "code",
   "execution_count": 184,
   "id": "bdadccba",
   "metadata": {
    "scrolled": true
   },
   "outputs": [
    {
     "data": {
      "text/plain": [
       "Age\n",
       "0      58\n",
       "1     180\n",
       "2     227\n",
       "3     253\n",
       "4     271\n",
       "     ... \n",
       "71      1\n",
       "72      2\n",
       "73      2\n",
       "78      1\n",
       "79      1\n",
       "Name: ID, Length: 65, dtype: int64"
      ]
     },
     "execution_count": 184,
     "metadata": {},
     "output_type": "execute_result"
    }
   ],
   "source": [
    "demo.groupby(['Age'])['ID'].count()"
   ]
  },
  {
   "cell_type": "code",
   "execution_count": 189,
   "id": "c3c8d623",
   "metadata": {
    "scrolled": true
   },
   "outputs": [
    {
     "data": {
      "text/plain": [
       "count     65.000000\n",
       "mean      74.061538\n",
       "std      107.999693\n",
       "min        1.000000\n",
       "25%        2.000000\n",
       "50%        9.000000\n",
       "75%      180.000000\n",
       "max      303.000000\n",
       "Name: ID, dtype: float64"
      ]
     },
     "execution_count": 189,
     "metadata": {},
     "output_type": "execute_result"
    }
   ],
   "source": [
    "v = demo.groupby(['Age'])['ID'].count()\n",
    "v.describe()"
   ]
  },
  {
   "cell_type": "code",
   "execution_count": 209,
   "id": "37ea9bfe",
   "metadata": {
    "scrolled": true
   },
   "outputs": [
    {
     "data": {
      "text/plain": [
       "Age\n",
       "0      58\n",
       "1     180\n",
       "2     227\n",
       "3     253\n",
       "4     271\n",
       "5     294\n",
       "6     285\n",
       "7     303\n",
       "8     274\n",
       "9     271\n",
       "10    246\n",
       "11    244\n",
       "12    232\n",
       "13    278\n",
       "14    249\n",
       "15    216\n",
       "16    192\n",
       "17    198\n",
       "18    151\n",
       "19     78\n",
       "Name: ID, dtype: int64"
      ]
     },
     "execution_count": 209,
     "metadata": {},
     "output_type": "execute_result"
    }
   ],
   "source": [
    "demo.groupby(['Age'])['ID'].count()[:20]"
   ]
  },
  {
   "cell_type": "code",
   "execution_count": 206,
   "id": "3506aa5b",
   "metadata": {
    "scrolled": true
   },
   "outputs": [
    {
     "data": {
      "image/png": "[encoded data removed]",
      "text/plain": [
       "<Figure size 640x480 with 1 Axes>"
      ]
     },
     "metadata": {},
     "output_type": "display_data"
    }
   ],
   "source": [
    "#plot histogram to visualize most populat ages\n",
    "demo.hist(column='Age')\n",
    "plt.show()"
   ]
  },
  {
   "cell_type": "code",
   "execution_count": 216,
   "id": "b32d13e8",
   "metadata": {},
   "outputs": [],
   "source": [
    "def agegrp(age):\n",
    "    if age <=4 :\n",
    "        return \"0-4\"\n",
    "    elif (age >= 5) & ( age <= 12 ):\n",
    "        return \"5-12\"\n",
    "    elif (age >=13 ) & ( age <= 18) :\n",
    "        return \"13-18\"\n",
    "    elif (age >=19 )& ( age <= 26) :\n",
    "        return \"19-26\"\n",
    "    elif (age >=27 )& ( age <= 36) :\n",
    "        return \"27-36\"\n",
    "    elif (age >=37 )& ( age <= 46) :\n",
    "        return \"37-46\"\n",
    "    elif (age >=47 )& ( age <= 56) :\n",
    "        return \"47-56\"\n",
    "    elif (age >=57 )& ( age <= 64) :\n",
    "        return \"57-64\"\n",
    "    return \"65+\"\n",
    "\n",
    "demo['Age group']=demo['Age'].apply(agegrp)\n"
   ]
  },
  {
   "cell_type": "code",
   "execution_count": 230,
   "id": "b630573a",
   "metadata": {
    "scrolled": true
   },
   "outputs": [
    {
     "data": {
      "text/plain": [
       "Age group  Gender\n",
       "0-4        Female     552\n",
       "           Male       437\n",
       "13-18      Female     708\n",
       "           Male       576\n",
       "19-26      Female     136\n",
       "           Male        99\n",
       "27-36      Female      43\n",
       "           Male        42\n",
       "37-46      Female      26\n",
       "           Male        18\n",
       "47-56      Female       9\n",
       "           Male         3\n",
       "5-12       Female    1159\n",
       "           Male       990\n",
       "57-64      Female       4\n",
       "           Male         2\n",
       "65+        Female       9\n",
       "           Male         1\n",
       "Name: ID, dtype: int64"
      ]
     },
     "execution_count": 230,
     "metadata": {},
     "output_type": "execute_result"
    }
   ],
   "source": [
    "demo.groupby(['Age group','Gender'])['ID'].count()"
   ]
  },
  {
   "cell_type": "code",
   "execution_count": 272,
   "id": "bc85363f",
   "metadata": {
    "scrolled": true
   },
   "outputs": [
    {
     "data": {
      "text/html": [
       "<div>\n",
       "<style scoped>\n",
       "    .dataframe tbody tr th:only-of-type {\n",
       "        vertical-align: middle;\n",
       "    }\n",
       "\n",
       "    .dataframe tbody tr th {\n",
       "        vertical-align: top;\n",
       "    }\n",
       "\n",
       "    .dataframe thead th {\n",
       "        text-align: right;\n",
       "    }\n",
       "</style>\n",
       "<table border=\"1\" class=\"dataframe\">\n",
       "  <thead>\n",
       "    <tr style=\"text-align: right;\">\n",
       "      <th></th>\n",
       "      <th>State</th>\n",
       "      <th>ID</th>\n",
       "      <th>Percentage</th>\n",
       "    </tr>\n",
       "  </thead>\n",
       "  <tbody>\n",
       "    <tr>\n",
       "      <th>0</th>\n",
       "      <td>AL</td>\n",
       "      <td>6</td>\n",
       "      <td>1.980198</td>\n",
       "    </tr>\n",
       "    <tr>\n",
       "      <th>1</th>\n",
       "      <td>AZ</td>\n",
       "      <td>45</td>\n",
       "      <td>14.851485</td>\n",
       "    </tr>\n",
       "    <tr>\n",
       "      <th>2</th>\n",
       "      <td>CA</td>\n",
       "      <td>77</td>\n",
       "      <td>25.412541</td>\n",
       "    </tr>\n",
       "    <tr>\n",
       "      <th>3</th>\n",
       "      <td>CO</td>\n",
       "      <td>3</td>\n",
       "      <td>0.990099</td>\n",
       "    </tr>\n",
       "    <tr>\n",
       "      <th>4</th>\n",
       "      <td>FL</td>\n",
       "      <td>3</td>\n",
       "      <td>0.990099</td>\n",
       "    </tr>\n",
       "    <tr>\n",
       "      <th>5</th>\n",
       "      <td>GA</td>\n",
       "      <td>25</td>\n",
       "      <td>8.250825</td>\n",
       "    </tr>\n",
       "    <tr>\n",
       "      <th>6</th>\n",
       "      <td>MS</td>\n",
       "      <td>3</td>\n",
       "      <td>0.990099</td>\n",
       "    </tr>\n",
       "    <tr>\n",
       "      <th>7</th>\n",
       "      <td>NC</td>\n",
       "      <td>32</td>\n",
       "      <td>10.561056</td>\n",
       "    </tr>\n",
       "    <tr>\n",
       "      <th>8</th>\n",
       "      <td>NV</td>\n",
       "      <td>29</td>\n",
       "      <td>9.570957</td>\n",
       "    </tr>\n",
       "    <tr>\n",
       "      <th>9</th>\n",
       "      <td>OR</td>\n",
       "      <td>4</td>\n",
       "      <td>1.320132</td>\n",
       "    </tr>\n",
       "    <tr>\n",
       "      <th>10</th>\n",
       "      <td>TN</td>\n",
       "      <td>2</td>\n",
       "      <td>0.660066</td>\n",
       "    </tr>\n",
       "    <tr>\n",
       "      <th>11</th>\n",
       "      <td>TX</td>\n",
       "      <td>42</td>\n",
       "      <td>13.861386</td>\n",
       "    </tr>\n",
       "    <tr>\n",
       "      <th>12</th>\n",
       "      <td>WA</td>\n",
       "      <td>32</td>\n",
       "      <td>10.561056</td>\n",
       "    </tr>\n",
       "  </tbody>\n",
       "</table>\n",
       "</div>"
      ],
      "text/plain": [
       "   State  ID  Percentage\n",
       "0     AL   6    1.980198\n",
       "1     AZ  45   14.851485\n",
       "2     CA  77   25.412541\n",
       "3     CO   3    0.990099\n",
       "4     FL   3    0.990099\n",
       "5     GA  25    8.250825\n",
       "6     MS   3    0.990099\n",
       "7     NC  32   10.561056\n",
       "8     NV  29    9.570957\n",
       "9     OR   4    1.320132\n",
       "10    TN   2    0.660066\n",
       "11    TX  42   13.861386\n",
       "12    WA  32   10.561056"
      ]
     },
     "execution_count": 272,
     "metadata": {},
     "output_type": "execute_result"
    }
   ],
   "source": [
    "kids= demo[ demo['Age']==7 ]\n",
    "k = kids.groupby('State')['ID'].count().reset_index() \n",
    "k['Percentage']= 100 * k['ID']  / k['ID'].sum()\n",
    "k"
   ]
  },
  {
   "cell_type": "code",
   "execution_count": 348,
   "id": "b15d9f04",
   "metadata": {
    "scrolled": true
   },
   "outputs": [
    {
     "data": {
      "text/html": [
       "<div>\n",
       "<style scoped>\n",
       "    .dataframe tbody tr th:only-of-type {\n",
       "        vertical-align: middle;\n",
       "    }\n",
       "\n",
       "    .dataframe tbody tr th {\n",
       "        vertical-align: top;\n",
       "    }\n",
       "\n",
       "    .dataframe thead th {\n",
       "        text-align: right;\n",
       "    }\n",
       "</style>\n",
       "<table border=\"1\" class=\"dataframe\">\n",
       "  <thead>\n",
       "    <tr style=\"text-align: right;\">\n",
       "      <th></th>\n",
       "      <th>ID</th>\n",
       "      <th>First Name</th>\n",
       "      <th>Monthly Income</th>\n",
       "      <th>Pets</th>\n",
       "      <th>Date of Birth</th>\n",
       "      <th>Market</th>\n",
       "      <th>State</th>\n",
       "      <th>Age</th>\n",
       "      <th>Gender</th>\n",
       "      <th>Age group</th>\n",
       "      <th>Children</th>\n",
       "    </tr>\n",
       "  </thead>\n",
       "  <tbody>\n",
       "    <tr>\n",
       "      <th>4071</th>\n",
       "      <td>dg00cdau1tt4bot5</td>\n",
       "      <td>Oliva</td>\n",
       "      <td>5000.0</td>\n",
       "      <td>No</td>\n",
       "      <td>1942-04-29</td>\n",
       "      <td>SoCal</td>\n",
       "      <td>CA</td>\n",
       "      <td>79</td>\n",
       "      <td>Female</td>\n",
       "      <td>65+</td>\n",
       "      <td>No</td>\n",
       "    </tr>\n",
       "  </tbody>\n",
       "</table>\n",
       "</div>"
      ],
      "text/plain": [
       "                    ID First Name  Monthly Income Pets Date of Birth Market  \\\n",
       "4071  dg00cdau1tt4bot5      Oliva          5000.0   No    1942-04-29  SoCal   \n",
       "\n",
       "     State  Age  Gender Age group Children  \n",
       "4071    CA   79  Female       65+       No  "
      ]
     },
     "execution_count": 348,
     "metadata": {},
     "output_type": "execute_result"
    }
   ],
   "source": [
    "demo[demo['Age']==79]"
   ]
  },
  {
   "cell_type": "code",
   "execution_count": 374,
   "id": "9005c838",
   "metadata": {},
   "outputs": [
    {
     "data": {
      "image/png": "[encoded data removed]",
      "text/plain": [
       "<Figure size 1800x1000 with 1 Axes>"
      ]
     },
     "metadata": {},
     "output_type": "display_data"
    }
   ],
   "source": [
    "da= demo.groupby(['State', 'Age group']).size().unstack(level=1)\n",
    "da.plot(kind = 'bar', figsize=[18,10])\n",
    "plt.show()"
   ]
  },
  {
   "cell_type": "markdown",
   "id": "0b07a389",
   "metadata": {},
   "source": [
    "## Income Distribution"
   ]
  },
  {
   "cell_type": "code",
   "execution_count": 177,
   "id": "7e3a8c0a",
   "metadata": {
    "scrolled": false
   },
   "outputs": [
    {
     "data": {
      "text/plain": [
       "Gender\n",
       "Female    289141.77\n",
       "Male      277133.22\n",
       "Name: Monthly Income, dtype: float64"
      ]
     },
     "execution_count": 177,
     "metadata": {},
     "output_type": "execute_result"
    }
   ],
   "source": [
    "demo.groupby(['Gender'])['Monthly Income'].sum()"
   ]
  },
  {
   "cell_type": "code",
   "execution_count": 181,
   "id": "6fe12dd6",
   "metadata": {},
   "outputs": [
    {
     "data": {
      "text/plain": [
       "3755.0879220779225"
      ]
     },
     "execution_count": 181,
     "metadata": {},
     "output_type": "execute_result"
    }
   ],
   "source": [
    "#average money a woman makes\n",
    "demo[demo['Gender']=='Female']['Monthly Income'].sum()/demo[demo['Gender']=='Female'].count()[2]"
   ]
  },
  {
   "cell_type": "code",
   "execution_count": 182,
   "id": "eeca760e",
   "metadata": {},
   "outputs": [
    {
     "data": {
      "text/plain": [
       "4398.94"
      ]
     },
     "execution_count": 182,
     "metadata": {},
     "output_type": "execute_result"
    }
   ],
   "source": [
    "#average money a man makes\n",
    "demo[demo['Gender']=='Male']['Monthly Income'].sum()/demo[demo['Gender']=='Male'].count()[2]"
   ]
  },
  {
   "cell_type": "code",
   "execution_count": 244,
   "id": "ba9e7074",
   "metadata": {
    "scrolled": true
   },
   "outputs": [
    {
     "data": {
      "text/plain": [
       "Children\n",
       "No     3092.674419\n",
       "Yes    4466.907113\n",
       "Name: Monthly Income, dtype: float64"
      ]
     },
     "execution_count": 244,
     "metadata": {},
     "output_type": "execute_result"
    }
   ],
   "source": [
    "demo.groupby(['Children'])['Monthly Income'].agg('mean')"
   ]
  },
  {
   "cell_type": "code",
   "execution_count": 174,
   "id": "d03bd70d",
   "metadata": {},
   "outputs": [
    {
     "data": {
      "text/plain": [
       "Age\n",
       "3      10130.36\n",
       "4      35956.39\n",
       "5      53525.00\n",
       "6      19764.66\n",
       "7      36782.39\n",
       "8      77551.00\n",
       "9      25324.36\n",
       "10     26983.08\n",
       "11     14623.36\n",
       "12    105892.00\n",
       "13     26757.39\n",
       "14     26126.00\n",
       "15     20800.00\n",
       "16      8500.00\n",
       "17       801.00\n",
       "18     18320.00\n",
       "19      4166.00\n",
       "20     25580.00\n",
       "21     20558.00\n",
       "27      2160.00\n",
       "73       974.00\n",
       "79      5000.00\n",
       "Name: Monthly Income, dtype: float64"
      ]
     },
     "execution_count": 174,
     "metadata": {},
     "output_type": "execute_result"
    }
   ],
   "source": [
    "income=demo[demo['Monthly Income'].notnull()].groupby(['Age'])['Monthly Income'].sum()\n",
    "income"
   ]
  },
  {
   "cell_type": "code",
   "execution_count": 229,
   "id": "45324be1",
   "metadata": {},
   "outputs": [
    {
     "data": {
      "text/plain": [
       "Gender\n",
       "Female    1783\n",
       "Male      1463\n",
       "Name: ID, dtype: int64"
      ]
     },
     "execution_count": 229,
     "metadata": {},
     "output_type": "execute_result"
    }
   ],
   "source": [
    "kids.groupby(['Gender'])['ID'].count()"
   ]
  },
  {
   "cell_type": "code",
   "execution_count": 195,
   "id": "630bb900",
   "metadata": {},
   "outputs": [],
   "source": [
    "total_rows = demo.count()  #4814"
   ]
  },
  {
   "cell_type": "code",
   "execution_count": 266,
   "id": "b8840960",
   "metadata": {},
   "outputs": [
    {
     "data": {
      "text/plain": [
       "Market\n",
       "Bay Area      73\n",
       "Central       78\n",
       "East          72\n",
       "Sacramento    44\n",
       "SoCal         79\n",
       "Southwest     63\n",
       "Washington    41\n",
       "Name: Age, dtype: int64"
      ]
     },
     "execution_count": 266,
     "metadata": {},
     "output_type": "execute_result"
    }
   ],
   "source": [
    "demo.groupby(['Market'])['Age'].max()"
   ]
  },
  {
   "cell_type": "code",
   "execution_count": 258,
   "id": "5f7d3140",
   "metadata": {},
   "outputs": [
    {
     "data": {
      "text/plain": [
       "Market      State\n",
       "Bay Area    CA       482\n",
       "Central     TX       674\n",
       "East        AL        77\n",
       "            FL        56\n",
       "            GA       429\n",
       "            MS        46\n",
       "            NC       464\n",
       "            TN        44\n",
       "Sacramento  CA       340\n",
       "SoCal       CA       404\n",
       "Southwest   AZ       686\n",
       "            CO        45\n",
       "            NV       457\n",
       "Washington  OR        33\n",
       "            WA       577\n",
       "Name: ID, dtype: int64"
      ]
     },
     "execution_count": 258,
     "metadata": {},
     "output_type": "execute_result"
    }
   ],
   "source": [
    "demo.groupby(['Market','State'])['ID'].count()"
   ]
  },
  {
   "cell_type": "code",
   "execution_count": 259,
   "id": "1e26c4d0",
   "metadata": {},
   "outputs": [
    {
     "data": {
      "text/plain": [
       "Market\n",
       "Bay Area       482\n",
       "Central        674\n",
       "East          1116\n",
       "Sacramento     340\n",
       "SoCal          404\n",
       "Southwest     1188\n",
       "Washington     610\n",
       "Name: ID, dtype: int64"
      ]
     },
     "execution_count": 259,
     "metadata": {},
     "output_type": "execute_result"
    }
   ],
   "source": [
    "demo.groupby(['Market'])['ID'].count()"
   ]
  },
  {
   "cell_type": "code",
   "execution_count": 267,
   "id": "67391905",
   "metadata": {},
   "outputs": [
    {
     "data": {
      "text/plain": [
       "State\n",
       "AL     9.948052\n",
       "AZ    10.061224\n",
       "CA    12.060359\n",
       "CO     9.244444\n",
       "FL     9.232143\n",
       "GA    10.349650\n",
       "MS     8.043478\n",
       "NC    10.497845\n",
       "NV     8.560175\n",
       "OR    11.545455\n",
       "TN    12.318182\n",
       "TX    10.369436\n",
       "WA    10.441941\n",
       "Name: Age, dtype: float64"
      ]
     },
     "execution_count": 267,
     "metadata": {},
     "output_type": "execute_result"
    }
   ],
   "source": [
    "demo.groupby(['State'])['Age'].mean()     #average age for all states"
   ]
  },
  {
   "cell_type": "code",
   "execution_count": 372,
   "id": "e71d05ca",
   "metadata": {},
   "outputs": [
    {
     "data": {
      "text/plain": [
       "State\n",
       "AL    11.0\n",
       "AZ     9.0\n",
       "CA    10.0\n",
       "CO     9.0\n",
       "FL     9.0\n",
       "GA    10.0\n",
       "MS     6.0\n",
       "NC    10.0\n",
       "NV     7.0\n",
       "OR    10.0\n",
       "TN    10.5\n",
       "TX    10.0\n",
       "WA    10.0\n",
       "Name: Age, dtype: float64"
      ]
     },
     "execution_count": 372,
     "metadata": {},
     "output_type": "execute_result"
    }
   ],
   "source": [
    "demo.groupby(['State'])['Age'].median()    #median age for all states"
   ]
  },
  {
   "cell_type": "code",
   "execution_count": 170,
   "id": "4303256a",
   "metadata": {},
   "outputs": [
    {
     "data": {
      "text/plain": [
       "0.23431657665143332"
      ]
     },
     "execution_count": 170,
     "metadata": {},
     "output_type": "execute_result"
    }
   ],
   "source": [
    "With_pets = demo[demo['Pets']=='Yes']['ID'].count() / demo['ID'].count()\n",
    "With_pets"
   ]
  },
  {
   "cell_type": "code",
   "execution_count": 299,
   "id": "83d150bf",
   "metadata": {},
   "outputs": [
    {
     "data": {
      "text/plain": [
       "Market\n",
       "Bay Area      19.917012\n",
       "Central       24.777448\n",
       "East          25.000000\n",
       "Sacramento    24.411765\n",
       "SoCal         23.762376\n",
       "Southwest     22.727273\n",
       "Washington    22.459016\n",
       "Name: ID, dtype: float64"
      ]
     },
     "execution_count": 299,
     "metadata": {},
     "output_type": "execute_result"
    }
   ],
   "source": [
    "pet_market = demo[demo['Pets']=='Yes'].groupby(['Market'])['ID'].count() / demo.groupby(['Market'])['ID'].count()\n",
    "pet_market*100"
   ]
  },
  {
   "cell_type": "code",
   "execution_count": 335,
   "id": "0a166794",
   "metadata": {},
   "outputs": [
    {
     "data": {
      "text/plain": [
       "State\n",
       "AL         0.00\n",
       "AZ      8470.08\n",
       "CA    519801.91\n",
       "CO         0.00\n",
       "FL         0.00\n",
       "GA         0.00\n",
       "MS         0.00\n",
       "NC         0.00\n",
       "NV         0.00\n",
       "OR     36000.00\n",
       "TN         0.00\n",
       "TX         0.00\n",
       "WA      2003.00\n",
       "Name: Monthly Income, dtype: float64"
      ]
     },
     "execution_count": 335,
     "metadata": {},
     "output_type": "execute_result"
    }
   ],
   "source": [
    "demo.groupby(['State'])['Monthly Income'].sum()   #not informative and inclusive because we only have 100 lines of income data"
   ]
  },
  {
   "cell_type": "code",
   "execution_count": 168,
   "id": "afd1f2da",
   "metadata": {},
   "outputs": [
    {
     "data": {
      "text/plain": [
       "Age\n",
       "25    0.500000\n",
       "63    0.500000\n",
       "58    0.500000\n",
       "54    0.500000\n",
       "36    0.500000\n",
       "26    0.421053\n",
       "23    0.388889\n",
       "21    0.363636\n",
       "18    0.337748\n",
       "29    0.333333\n",
       "32    0.333333\n",
       "22    0.333333\n",
       "31    0.333333\n",
       "16    0.333333\n",
       "17    0.323232\n",
       "24    0.285714\n",
       "13    0.276978\n",
       "34    0.272727\n",
       "12    0.267241\n",
       "14    0.261044\n",
       "15    0.259259\n",
       "7     0.257426\n",
       "33    0.250000\n",
       "3     0.229249\n",
       "0     0.224138\n",
       "1     0.216667\n",
       "10    0.211382\n",
       "9     0.210332\n",
       "11    0.209016\n",
       "8     0.208029\n",
       "35    0.200000\n",
       "38    0.200000\n",
       "5     0.190476\n",
       "30    0.181818\n",
       "2     0.176211\n",
       "6     0.171930\n",
       "20    0.166667\n",
       "27    0.166667\n",
       "19    0.166667\n",
       "4     0.154982\n",
       "43    0.142857\n",
       "39    0.125000\n",
       "Name: ID, dtype: float64"
      ]
     },
     "execution_count": 168,
     "metadata": {},
     "output_type": "execute_result"
    }
   ],
   "source": [
    "total_count = demo.groupby(['Age'])['ID'].count() \n",
    "Has_pets = demo[demo[\"Pets\"]==\"Yes\"].groupby(['Age'])['ID'].count()\n",
    "percentage1 = Has_pets/total_count\n",
    "percentage1.sort_values(ascending = False)[lambda x: x <1]"
   ]
  },
  {
   "cell_type": "markdown",
   "id": "d7112601",
   "metadata": {},
   "source": [
    "## Marketing Campaign - finding target personas "
   ]
  },
  {
   "cell_type": "code",
   "execution_count": 301,
   "id": "bb840d0e",
   "metadata": {},
   "outputs": [],
   "source": [
    "#create a subset of the data where we fix our eyes on pet owners \n",
    "Animal = demo[demo['Pets']=='Yes']\n",
    "total = Animal.count()[0]"
   ]
  },
  {
   "cell_type": "code",
   "execution_count": 315,
   "id": "397e4093",
   "metadata": {},
   "outputs": [
    {
     "data": {
      "text/plain": [
       "Gender\n",
       "Female    629\n",
       "Male      499\n",
       "Name: ID, dtype: int64"
      ]
     },
     "execution_count": 315,
     "metadata": {},
     "output_type": "execute_result"
    }
   ],
   "source": [
    "#investigate breakdown by gender from all pet owners\n",
    "Animal.groupby(['Gender'])['ID'].count()"
   ]
  },
  {
   "cell_type": "code",
   "execution_count": 310,
   "id": "15b40315",
   "metadata": {},
   "outputs": [
    {
     "data": {
      "text/plain": [
       "Age group\n",
       "0-4      17.021277\n",
       "13-18    33.421986\n",
       "19-26     5.496454\n",
       "27-36     1.773050\n",
       "37-46     0.620567\n",
       "47-56     0.443262\n",
       "5-12     40.957447\n",
       "57-64     0.177305\n",
       "65+       0.088652\n",
       "Name: ID, dtype: float64"
      ]
     },
     "execution_count": 310,
     "metadata": {},
     "output_type": "execute_result"
    }
   ],
   "source": [
    "#breakdown by age\n",
    "byage =Animal.groupby(['Age group'])['ID'].count()/total*100\n",
    "byage"
   ]
  },
  {
   "cell_type": "code",
   "execution_count": 311,
   "id": "863f8788",
   "metadata": {},
   "outputs": [
    {
     "data": {
      "text/plain": [
       "Children\n",
       "No     35.195035\n",
       "Yes    64.804965\n",
       "Name: ID, dtype: float64"
      ]
     },
     "execution_count": 311,
     "metadata": {},
     "output_type": "execute_result"
    }
   ],
   "source": [
    "#Investigate the impact of having a children in the family to being a pet owner\n",
    "byhouse =Animal.groupby(['Children'])['ID'].count()/total*100\n",
    "byhouse"
   ]
  },
  {
   "cell_type": "code",
   "execution_count": 333,
   "id": "45f778df",
   "metadata": {},
   "outputs": [
    {
     "data": {
      "text/plain": [
       "Market      State\n",
       "Bay Area    CA        96\n",
       "Central     TX       167\n",
       "East        AL        24\n",
       "            FL        22\n",
       "            GA        69\n",
       "            MS         2\n",
       "            NC       156\n",
       "            TN         6\n",
       "Sacramento  CA        83\n",
       "SoCal       CA        96\n",
       "Southwest   AZ       178\n",
       "            CO        11\n",
       "            NV        81\n",
       "Washington  OR        21\n",
       "            WA       116\n",
       "Name: ID, dtype: int64"
      ]
     },
     "execution_count": 333,
     "metadata": {},
     "output_type": "execute_result"
    }
   ],
   "source": [
    "#Breakdown by market and state\n",
    "Animal.groupby(['Market','State'])['ID'].count()"
   ]
  },
  {
   "cell_type": "code",
   "execution_count": 384,
   "id": "2717fd01",
   "metadata": {},
   "outputs": [
    {
     "data": {
      "image/png": "[encoded data removed]",
      "text/plain": [
       "<Figure size 800x800 with 1 Axes>"
      ]
     },
     "metadata": {},
     "output_type": "display_data"
    }
   ],
   "source": [
    "fig1 = Animal[(Animal['Age']<= 13)&(Animal['Age']>=3)].groupby(['Age','Gender']).size().unstack(level=1)\n",
    "fig1.plot(kind=\"bar\", title=\"Number of pet owners for children aged 3-13\", figsize=[8,8])\n",
    "plt.show()"
   ]
  },
  {
   "cell_type": "code",
   "execution_count": 359,
   "id": "59d38e6b",
   "metadata": {
    "scrolled": true
   },
   "outputs": [
    {
     "data": {
      "image/png": "[encoded data removed]",
      "text/plain": [
       "<Figure size 400x300 with 1 Axes>"
      ]
     },
     "metadata": {},
     "output_type": "display_data"
    }
   ],
   "source": [
    "fig2 = Animal.groupby(['State'])['ID'].count()\n",
    "fig2.plot(kind=\"bar\", title=\"Number of pet owners in States\", figsize=[4,3])\n",
    "plt.show()"
   ]
  },
  {
   "cell_type": "code",
   "execution_count": 361,
   "id": "ba05438f",
   "metadata": {},
   "outputs": [
    {
     "data": {
      "image/png": "[encoded data removed]",
      "text/plain": [
       "<Figure size 400x300 with 1 Axes>"
      ]
     },
     "metadata": {},
     "output_type": "display_data"
    }
   ],
   "source": [
    "pm = Animal.groupby(['Market'])['ID'].count()\n",
    "pm.plot(kind=\"bar\", title=\"Number of pet owners in Market\", figsize=[4,3])\n",
    "plt.show()"
   ]
  },
  {
   "cell_type": "code",
   "execution_count": 362,
   "id": "80e5f83f",
   "metadata": {},
   "outputs": [
    {
     "data": {
      "image/png": "[encoded data removed]",
      "text/plain": [
       "<Figure size 640x480 with 1 Axes>"
      ]
     },
     "metadata": {},
     "output_type": "display_data"
    }
   ],
   "source": [
    "demo_gb = demo.groupby(['Market', 'Pets']).size().unstack(level=1)\n",
    "demo_gb.plot(kind = 'bar',title=\"Pet owners in Market\")\n",
    "plt.show()"
   ]
  },
  {
   "cell_type": "code",
   "execution_count": 327,
   "id": "b9f8e9c2",
   "metadata": {},
   "outputs": [
    {
     "data": {
      "text/plain": [
       "Age  State\n",
       "17   TX       8\n",
       "Name: ID, dtype: int64"
      ]
     },
     "execution_count": 327,
     "metadata": {},
     "output_type": "execute_result"
    }
   ],
   "source": [
    "#Find top age group and state with pets in the market of interest\n",
    "Animal[(Animal['Age'] <=18 )&(Animal['Age']>=5)& (Animal['Gender']=='Female')& (Animal['Market']=='Central')] .groupby(['Age','State'])['ID'].count().sort_values(ascending=False)[:1]"
   ]
  },
  {
   "cell_type": "code",
   "execution_count": 395,
   "id": "d3efe09a",
   "metadata": {},
   "outputs": [
    {
     "data": {
      "text/plain": [
       "Age\n",
       "7     15\n",
       "8     13\n",
       "16    11\n",
       "Name: ID, dtype: int64"
      ]
     },
     "execution_count": 395,
     "metadata": {},
     "output_type": "execute_result"
    }
   ],
   "source": [
    "#Find top three ages of children in a family with pet in Arizona. \n",
    "az = Animal[Animal['State']=='AZ'].groupby('Age')['ID'].count().sort_values(ascending=False)[:3]\n",
    "az"
   ]
  },
  {
   "cell_type": "code",
   "execution_count": 394,
   "id": "cb69ed6b",
   "metadata": {},
   "outputs": [
    {
     "data": {
      "text/plain": [
       "Age\n",
       "7     14\n",
       "14    12\n",
       "9     11\n",
       "Name: ID, dtype: int64"
      ]
     },
     "execution_count": 394,
     "metadata": {},
     "output_type": "execute_result"
    }
   ],
   "source": [
    "nc = Animal[Animal['State']=='NC'].groupby(['Age'])['ID'].count().sort_values(ascending=False)[:3]\n",
    "nc"
   ]
  },
  {
   "cell_type": "code",
   "execution_count": 396,
   "id": "669ff6e6",
   "metadata": {},
   "outputs": [
    {
     "data": {
      "text/plain": [
       "Age\n",
       "13    20\n",
       "7     19\n",
       "3     15\n",
       "Name: ID, dtype: int64"
      ]
     },
     "execution_count": 396,
     "metadata": {},
     "output_type": "execute_result"
    }
   ],
   "source": [
    "ca = Animal[Animal['State']=='CA'].groupby(['Age'])['ID'].count().sort_values(ascending=False)[:3]\n",
    "ca"
   ]
  },
  {
   "cell_type": "code",
   "execution_count": null,
   "id": "e86d20b4",
   "metadata": {},
   "outputs": [],
   "source": []
  }
 ],
 "metadata": {
  "kernelspec": {
   "display_name": "Python 3",
   "language": "python",
   "name": "python3"
  },
  "language_info": {
   "codemirror_mode": {
    "name": "ipython",
    "version": 3
   },
   "file_extension": ".py",
   "mimetype": "text/x-python",
   "name": "python",
   "nbconvert_exporter": "python",
   "pygments_lexer": "ipython3",
   "version": "3.9.13"
  },
  "vscode": {
   "interpreter": {
    "hash": "aee8b7b246df8f9039afb4144a1f6fd8d2ca17a180786b69acc140d282b71a49"
   }
  }
 },
 "nbformat": 4,
 "nbformat_minor": 5
}
